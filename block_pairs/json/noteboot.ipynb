{
 "cells": [
  {
   "cell_type": "code",
   "execution_count": 3,
   "metadata": {},
   "outputs": [],
   "source": [
    "import json"
   ]
  },
  {
   "cell_type": "code",
   "execution_count": 4,
   "metadata": {},
   "outputs": [],
   "source": [
    "PATH = \"block_variant/block_pairs/json/\"\n",
    "ALL = \"all.json\"\n",
    "EXPERIMENTAL = \"experimental.json\"\n",
    "FENCE = \"fence.json\"\n",
    "OTHER = \"other.json\"\n",
    "STAIRS = \"stairs.json\"\n",
    "WALL = \"wall.json\""
   ]
  },
  {
   "cell_type": "code",
   "execution_count": 5,
   "metadata": {},
   "outputs": [],
   "source": [
    "with open(FENCE, 'r') as f:\n",
    "    data_fence = json.load(f)\n",
    "for block in data_fence:\n",
    "    data_fence[block][\"bock_types\"] = [\"fence\"]"
   ]
  },
  {
   "cell_type": "code",
   "execution_count": 6,
   "metadata": {},
   "outputs": [],
   "source": [
    "with open(STAIRS, 'r') as f:\n",
    "    data_stairs = json.load(f)\n",
    "for block in data_stairs:\n",
    "    data_stairs[block][\"bock_types\"] = [\"stairs\"]\n"
   ]
  },
  {
   "cell_type": "code",
   "execution_count": 7,
   "metadata": {},
   "outputs": [],
   "source": [
    "with open(WALL, 'r') as f:\n",
    "    data_wall = json.load(f)\n",
    "for block in data_wall:\n",
    "    data_wall[block][\"bock_types\"] = [\"wall\"]\n"
   ]
  },
  {
   "cell_type": "code",
   "execution_count": 8,
   "metadata": {},
   "outputs": [],
   "source": [
    "with open(OTHER, 'r') as f:\n",
    "    data_other = json.load(f)\n",
    "for block in data_other:\n",
    "    data_other[block][\"bock_types\"] = [\"door\", \"trapdoor\", \"button\", \"pressure_plate\", \"sign\"]\n"
   ]
  },
  {
   "cell_type": "code",
   "execution_count": 9,
   "metadata": {},
   "outputs": [],
   "source": [
    "with open(ALL, 'r') as f:\n",
    "    data_all = json.load(f)\n",
    "for block in data_all:\n",
    "    data_all[block][\"bock_types\"] = [\"fence\", \"stairs\", \"wall\",\n",
    "                                     \"door\", \"trapdoor\", \"button\", \n",
    "                                     \"fence_gate\", \"pressure_plate\", \"sign\",\n",
    "                                     \"slab\"]\n"
   ]
  },
  {
   "cell_type": "code",
   "execution_count": 10,
   "metadata": {},
   "outputs": [],
   "source": [
    "with open(EXPERIMENTAL, 'r') as f:\n",
    "    data_experimental = json.load(f)\n",
    "for block in data_experimental:\n",
    "    data_experimental[block][\"bock_types\"] = [\"experimental\"]\n"
   ]
  },
  {
   "cell_type": "code",
   "execution_count": 11,
   "metadata": {},
   "outputs": [],
   "source": [
    "new_data = {}\n",
    "new_data.update(data_all)"
   ]
  },
  {
   "cell_type": "code",
   "execution_count": 12,
   "metadata": {},
   "outputs": [],
   "source": [
    "d = [data_fence, data_other, data_stairs, data_wall, data_experimental]\n",
    "\n",
    "for data in d:\n",
    "    for block in data:\n",
    "        print(data)\n",
    "        try:\n",
    "            new_data[block][\"bock_types\"] += data[block][\"bock_types\"]\n",
    "            #print(block)\n",
    "        except:\n",
    "            new_data[block] = data[block]\n",
    "            pass"
   ]
  },
  {
   "cell_type": "code",
   "execution_count": null,
   "metadata": {},
   "outputs": [],
   "source": [
    "with open(\"compressed.json\", \"w\") as f:\n",
    "    json.dump(new_data, f, indent=4)"
   ]
  },
  {
   "cell_type": "code",
   "execution_count": null,
   "metadata": {},
   "outputs": [
    {
     "data": {
      "text/plain": [
       "5"
      ]
     },
     "execution_count": 2,
     "metadata": {},
     "output_type": "execute_result"
    }
   ],
   "source": [
    "2+3"
   ]
  }
 ],
 "metadata": {
  "kernelspec": {
   "display_name": "Python 3",
   "language": "python",
   "name": "python3"
  },
  "language_info": {
   "codemirror_mode": {
    "name": "ipython",
    "version": 3
   },
   "file_extension": ".py",
   "mimetype": "text/x-python",
   "name": "python",
   "nbconvert_exporter": "python",
   "pygments_lexer": "ipython3",
   "version": "3.10.1"
  },
  "orig_nbformat": 4
 },
 "nbformat": 4,
 "nbformat_minor": 2
}
